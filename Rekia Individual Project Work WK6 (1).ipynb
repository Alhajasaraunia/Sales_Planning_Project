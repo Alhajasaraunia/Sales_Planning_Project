{
 "cells": [
  {
   "attachments": {},
   "cell_type": "markdown",
   "id": "90fffa19-f6a3-466d-9949-b36feec067f1",
   "metadata": {
    "tags": []
   },
   "source": [
    "# REKIA IDDRISU OUEDRAOGO  - INDIVIDUAL PROJECT WEEK 6"
   ]
  },
  {
   "cell_type": "markdown",
   "id": "9db525d9-06f9-47fb-97bc-b74df052f5f3",
   "metadata": {
    "tags": []
   },
   "source": [
    "## Sales and Operations Planning Project"
   ]
  },
  {
   "cell_type": "markdown",
   "id": "1f178a48-83f6-41f3-a63a-a05436bd64c8",
   "metadata": {},
   "source": [
    "### In this project, you are going to simulate a sales and operations planning using the zero-stock level strategy. Write a Python program that asks the user to enter the following data:\n",
    "\n",
    "#### - An initial stock level for a product\n",
    "\n",
    "#### - The number of month(s) to plan\n",
    "\n",
    "#### - The planned sales quantity for each month\n",
    "\n",
    "### Based on this data, calculate the required production quantity as follows:\n",
    "\n",
    "#### - If the sales quantity is smaller than the stock level of the previous month, the production quantity is 0\n",
    "\n",
    "#### - If the sales quantity is larger than the stock level of the previous month, the production quantity is this difference"
   ]
  },
  {
   "cell_type": "code",
   "execution_count": 3,
   "id": "32f3e451-3428-4fcb-8dd7-360831a6b8a3",
   "metadata": {},
   "outputs": [
    {
     "name": "stdout",
     "output_type": "stream",
     "text": [
      "Please enter an initial stock level:  500\n",
      "Please enter the number of months to plan:  5\n",
      "Please enter the planned sales quantity for month 1:  300\n"
     ]
    },
    {
     "name": "stdout",
     "output_type": "stream",
     "text": [
      "Production quantity month 1 - 0\n"
     ]
    },
    {
     "name": "stdout",
     "output_type": "stream",
     "text": [
      "Please enter the planned sales quantity for month 2:  250\n"
     ]
    },
    {
     "name": "stdout",
     "output_type": "stream",
     "text": [
      "Production quantity month 2 - 50\n"
     ]
    },
    {
     "name": "stdout",
     "output_type": "stream",
     "text": [
      "Please enter the planned sales quantity for month 3:  200\n"
     ]
    },
    {
     "name": "stdout",
     "output_type": "stream",
     "text": [
      "Production quantity month 3 - 200\n"
     ]
    },
    {
     "name": "stdout",
     "output_type": "stream",
     "text": [
      "Please enter the planned sales quantity for month 4:  400\n"
     ]
    },
    {
     "name": "stdout",
     "output_type": "stream",
     "text": [
      "Production quantity month 4 - 400\n"
     ]
    },
    {
     "name": "stdout",
     "output_type": "stream",
     "text": [
      "Please enter the planned sales quantity for month 5:  100\n"
     ]
    },
    {
     "name": "stdout",
     "output_type": "stream",
     "text": [
      "Production quantity month 5 - 100\n"
     ]
    }
   ],
   "source": [
    "# Get initial stock level from the user\n",
    "initial_stock = int(input(\"Please enter an initial stock level: \"))\n",
    "\n",
    "# Get the number of months to plan from the user\n",
    "num_months = int(input(\"Please enter the number of months to plan: \"))\n",
    "\n",
    "# Set the current stock level to the initial stock level\n",
    "current_stock = initial_stock\n",
    "\n",
    "# Loop over the number of months to plan. num_months = 5\n",
    "for i in range(num_months):\n",
    "  # Get the planned sales quantity for the current month\n",
    "  planned_sales = int(input(f\"Please enter the planned sales quantity for month {i+1}: \"))\n",
    "\n",
    "  # Calculate the production quantity\n",
    "  if planned_sales > current_stock:\n",
    "    production_quantity = planned_sales - current_stock\n",
    "  else:\n",
    "    production_quantity = 0\n",
    "\n",
    "  # Print the production quantity for the current month\n",
    "  print(f\"Production quantity month {i+1} - {production_quantity}\")\n",
    "\n",
    "  # Update the current stock level\n",
    "  current_stock = current_stock + production_quantity - planned_sales\n"
   ]
  },
  {
   "cell_type": "code",
   "execution_count": null,
   "id": "76b91acb-facb-4e2e-99b4-7dd012be15fa",
   "metadata": {},
   "outputs": [],
   "source": []
  },
  {
   "cell_type": "code",
   "execution_count": null,
   "id": "a05c5f84-0227-4562-92b8-46f511dc54ff",
   "metadata": {},
   "outputs": [],
   "source": []
  },
  {
   "cell_type": "code",
   "execution_count": null,
   "id": "8f17fe48-85b6-4a9a-9cdf-c88bc8ac8d0f",
   "metadata": {},
   "outputs": [],
   "source": []
  },
  {
   "cell_type": "code",
   "execution_count": null,
   "id": "de3e26b4-e19d-484c-84bc-df5e3f75f78c",
   "metadata": {},
   "outputs": [],
   "source": []
  },
  {
   "cell_type": "code",
   "execution_count": null,
   "id": "4249118f-dca3-4a8c-9e44-f9838b48ce0b",
   "metadata": {},
   "outputs": [],
   "source": []
  },
  {
   "cell_type": "code",
   "execution_count": null,
   "id": "9a28eaab-e3bb-4c7e-a6b0-0a102c7677c7",
   "metadata": {},
   "outputs": [],
   "source": []
  },
  {
   "cell_type": "code",
   "execution_count": null,
   "id": "258acc05-976b-4981-b1c4-504c04e0e8fa",
   "metadata": {},
   "outputs": [],
   "source": []
  },
  {
   "cell_type": "code",
   "execution_count": null,
   "id": "ee5ec288-d477-4c09-a582-61164e9adbcf",
   "metadata": {},
   "outputs": [],
   "source": []
  }
 ],
 "metadata": {
  "kernelspec": {
   "display_name": "Python 3 (ipykernel)",
   "language": "python",
   "name": "python3"
  },
  "language_info": {
   "codemirror_mode": {
    "name": "ipython",
    "version": 3
   },
   "file_extension": ".py",
   "mimetype": "text/x-python",
   "name": "python",
   "nbconvert_exporter": "python",
   "pygments_lexer": "ipython3",
   "version": "3.9.7"
  }
 },
 "nbformat": 4,
 "nbformat_minor": 5
}
